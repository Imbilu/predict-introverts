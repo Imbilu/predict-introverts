{
 "cells": [
  {
   "cell_type": "code",
   "execution_count": 1,
   "id": "0c357910",
   "metadata": {
    "_cell_guid": "b1076dfc-b9ad-4769-8c92-a6c4dae69d19",
    "_uuid": "8f2839f25d086af736a60e9eeb907d3b93b6e0e5",
    "execution": {
     "iopub.execute_input": "2025-07-03T16:03:03.894216Z",
     "iopub.status.busy": "2025-07-03T16:03:03.893831Z",
     "iopub.status.idle": "2025-07-03T16:03:06.037209Z",
     "shell.execute_reply": "2025-07-03T16:03:06.036045Z"
    },
    "papermill": {
     "duration": 2.153379,
     "end_time": "2025-07-03T16:03:06.039086",
     "exception": false,
     "start_time": "2025-07-03T16:03:03.885707",
     "status": "completed"
    },
    "tags": []
   },
   "outputs": [
    {
     "name": "stdout",
     "output_type": "stream",
     "text": [
      "/kaggle/input/playground-series-s5e7/sample_submission.csv\n",
      "/kaggle/input/playground-series-s5e7/train.csv\n",
      "/kaggle/input/playground-series-s5e7/test.csv\n"
     ]
    }
   ],
   "source": [
    "# This Python 3 environment comes with many helpful analytics libraries installed\n",
    "# It is defined by the kaggle/python Docker image: https://github.com/kaggle/docker-python\n",
    "# For example, here's several helpful packages to load\n",
    "\n",
    "import numpy as np # linear algebra\n",
    "import pandas as pd # data processing, CSV file I/O (e.g. pd.read_csv)\n",
    "\n",
    "# Input data files are available in the read-only \"../input/\" directory\n",
    "# For example, running this (by clicking run or pressing Shift+Enter) will list all files under the input directory\n",
    "\n",
    "import os\n",
    "for dirname, _, filenames in os.walk('/kaggle/input'):\n",
    "    for filename in filenames:\n",
    "        print(os.path.join(dirname, filename))\n",
    "\n",
    "# You can write up to 20GB to the current directory (/kaggle/working/) that gets preserved as output when you create a version using \"Save & Run All\" \n",
    "# You can also write temporary files to /kaggle/temp/, but they won't be saved outside of the current session"
   ]
  },
  {
   "cell_type": "markdown",
   "id": "01a21b6e",
   "metadata": {
    "papermill": {
     "duration": 0.004791,
     "end_time": "2025-07-03T16:03:06.049169",
     "exception": false,
     "start_time": "2025-07-03T16:03:06.044378",
     "status": "completed"
    },
    "tags": []
   },
   "source": [
    "# Setup"
   ]
  },
  {
   "cell_type": "code",
   "execution_count": 2,
   "id": "fe88e5d0",
   "metadata": {
    "execution": {
     "iopub.execute_input": "2025-07-03T16:03:06.060493Z",
     "iopub.status.busy": "2025-07-03T16:03:06.060015Z",
     "iopub.status.idle": "2025-07-03T16:03:07.858279Z",
     "shell.execute_reply": "2025-07-03T16:03:07.856826Z"
    },
    "papermill": {
     "duration": 1.806627,
     "end_time": "2025-07-03T16:03:07.860463",
     "exception": false,
     "start_time": "2025-07-03T16:03:06.053836",
     "status": "completed"
    },
    "tags": []
   },
   "outputs": [],
   "source": [
    "import random, os, gc\n",
    "from sklearn.model_selection import StratifiedKFold\n",
    "from sklearn.metrics import log_loss, accuracy_score, confusion_matrix, classification_report"
   ]
  },
  {
   "cell_type": "markdown",
   "id": "306511d4",
   "metadata": {
    "papermill": {
     "duration": 0.004643,
     "end_time": "2025-07-03T16:03:07.871016",
     "exception": false,
     "start_time": "2025-07-03T16:03:07.866373",
     "status": "completed"
    },
    "tags": []
   },
   "source": [
    "# Load Data"
   ]
  },
  {
   "cell_type": "code",
   "execution_count": 3,
   "id": "8e3c5bbf",
   "metadata": {
    "execution": {
     "iopub.execute_input": "2025-07-03T16:03:07.882680Z",
     "iopub.status.busy": "2025-07-03T16:03:07.882164Z",
     "iopub.status.idle": "2025-07-03T16:03:07.951651Z",
     "shell.execute_reply": "2025-07-03T16:03:07.950413Z"
    },
    "papermill": {
     "duration": 0.077826,
     "end_time": "2025-07-03T16:03:07.953683",
     "exception": false,
     "start_time": "2025-07-03T16:03:07.875857",
     "status": "completed"
    },
    "tags": []
   },
   "outputs": [],
   "source": [
    "train = pd.read_csv(\"/kaggle/input/playground-series-s5e7/train.csv\")\n",
    "test = pd.read_csv(\"/kaggle/input/playground-series-s5e7/test.csv\")"
   ]
  },
  {
   "cell_type": "markdown",
   "id": "1072c0a8",
   "metadata": {
    "papermill": {
     "duration": 0.004598,
     "end_time": "2025-07-03T16:03:07.963330",
     "exception": false,
     "start_time": "2025-07-03T16:03:07.958732",
     "status": "completed"
    },
    "tags": []
   },
   "source": [
    "# EDA"
   ]
  },
  {
   "cell_type": "code",
   "execution_count": 4,
   "id": "66839455",
   "metadata": {
    "execution": {
     "iopub.execute_input": "2025-07-03T16:03:07.974577Z",
     "iopub.status.busy": "2025-07-03T16:03:07.974179Z",
     "iopub.status.idle": "2025-07-03T16:03:08.015319Z",
     "shell.execute_reply": "2025-07-03T16:03:08.013941Z"
    },
    "papermill": {
     "duration": 0.048868,
     "end_time": "2025-07-03T16:03:08.017160",
     "exception": false,
     "start_time": "2025-07-03T16:03:07.968292",
     "status": "completed"
    },
    "tags": []
   },
   "outputs": [
    {
     "name": "stderr",
     "output_type": "stream",
     "text": [
      "/usr/local/lib/python3.11/dist-packages/pandas/io/formats/format.py:1458: RuntimeWarning: invalid value encountered in greater\n",
      "  has_large_values = (abs_vals > 1e6).any()\n",
      "/usr/local/lib/python3.11/dist-packages/pandas/io/formats/format.py:1459: RuntimeWarning: invalid value encountered in less\n",
      "  has_small_values = ((abs_vals < 10 ** (-self.digits)) & (abs_vals > 0)).any()\n",
      "/usr/local/lib/python3.11/dist-packages/pandas/io/formats/format.py:1459: RuntimeWarning: invalid value encountered in greater\n",
      "  has_small_values = ((abs_vals < 10 ** (-self.digits)) & (abs_vals > 0)).any()\n"
     ]
    },
    {
     "data": {
      "text/html": [
       "<div>\n",
       "<style scoped>\n",
       "    .dataframe tbody tr th:only-of-type {\n",
       "        vertical-align: middle;\n",
       "    }\n",
       "\n",
       "    .dataframe tbody tr th {\n",
       "        vertical-align: top;\n",
       "    }\n",
       "\n",
       "    .dataframe thead th {\n",
       "        text-align: right;\n",
       "    }\n",
       "</style>\n",
       "<table border=\"1\" class=\"dataframe\">\n",
       "  <thead>\n",
       "    <tr style=\"text-align: right;\">\n",
       "      <th></th>\n",
       "      <th>id</th>\n",
       "      <th>Time_spent_Alone</th>\n",
       "      <th>Stage_fear</th>\n",
       "      <th>Social_event_attendance</th>\n",
       "      <th>Going_outside</th>\n",
       "      <th>Drained_after_socializing</th>\n",
       "      <th>Friends_circle_size</th>\n",
       "      <th>Post_frequency</th>\n",
       "      <th>Personality</th>\n",
       "    </tr>\n",
       "  </thead>\n",
       "  <tbody>\n",
       "    <tr>\n",
       "      <th>0</th>\n",
       "      <td>0</td>\n",
       "      <td>0.0</td>\n",
       "      <td>No</td>\n",
       "      <td>6.0</td>\n",
       "      <td>4.0</td>\n",
       "      <td>No</td>\n",
       "      <td>15.0</td>\n",
       "      <td>5.0</td>\n",
       "      <td>Extrovert</td>\n",
       "    </tr>\n",
       "    <tr>\n",
       "      <th>1</th>\n",
       "      <td>1</td>\n",
       "      <td>1.0</td>\n",
       "      <td>No</td>\n",
       "      <td>7.0</td>\n",
       "      <td>3.0</td>\n",
       "      <td>No</td>\n",
       "      <td>10.0</td>\n",
       "      <td>8.0</td>\n",
       "      <td>Extrovert</td>\n",
       "    </tr>\n",
       "    <tr>\n",
       "      <th>2</th>\n",
       "      <td>2</td>\n",
       "      <td>6.0</td>\n",
       "      <td>Yes</td>\n",
       "      <td>1.0</td>\n",
       "      <td>0.0</td>\n",
       "      <td>NaN</td>\n",
       "      <td>3.0</td>\n",
       "      <td>0.0</td>\n",
       "      <td>Introvert</td>\n",
       "    </tr>\n",
       "    <tr>\n",
       "      <th>3</th>\n",
       "      <td>3</td>\n",
       "      <td>3.0</td>\n",
       "      <td>No</td>\n",
       "      <td>7.0</td>\n",
       "      <td>3.0</td>\n",
       "      <td>No</td>\n",
       "      <td>11.0</td>\n",
       "      <td>5.0</td>\n",
       "      <td>Extrovert</td>\n",
       "    </tr>\n",
       "    <tr>\n",
       "      <th>4</th>\n",
       "      <td>4</td>\n",
       "      <td>1.0</td>\n",
       "      <td>No</td>\n",
       "      <td>4.0</td>\n",
       "      <td>4.0</td>\n",
       "      <td>No</td>\n",
       "      <td>13.0</td>\n",
       "      <td>NaN</td>\n",
       "      <td>Extrovert</td>\n",
       "    </tr>\n",
       "    <tr>\n",
       "      <th>5</th>\n",
       "      <td>5</td>\n",
       "      <td>2.0</td>\n",
       "      <td>No</td>\n",
       "      <td>8.0</td>\n",
       "      <td>5.0</td>\n",
       "      <td>No</td>\n",
       "      <td>NaN</td>\n",
       "      <td>3.0</td>\n",
       "      <td>Extrovert</td>\n",
       "    </tr>\n",
       "    <tr>\n",
       "      <th>6</th>\n",
       "      <td>6</td>\n",
       "      <td>1.0</td>\n",
       "      <td>No</td>\n",
       "      <td>8.0</td>\n",
       "      <td>NaN</td>\n",
       "      <td>No</td>\n",
       "      <td>NaN</td>\n",
       "      <td>4.0</td>\n",
       "      <td>Extrovert</td>\n",
       "    </tr>\n",
       "    <tr>\n",
       "      <th>7</th>\n",
       "      <td>7</td>\n",
       "      <td>2.0</td>\n",
       "      <td>No</td>\n",
       "      <td>8.0</td>\n",
       "      <td>3.0</td>\n",
       "      <td>No</td>\n",
       "      <td>4.0</td>\n",
       "      <td>5.0</td>\n",
       "      <td>Extrovert</td>\n",
       "    </tr>\n",
       "    <tr>\n",
       "      <th>8</th>\n",
       "      <td>8</td>\n",
       "      <td>4.0</td>\n",
       "      <td>Yes</td>\n",
       "      <td>2.0</td>\n",
       "      <td>1.0</td>\n",
       "      <td>NaN</td>\n",
       "      <td>0.0</td>\n",
       "      <td>2.0</td>\n",
       "      <td>Introvert</td>\n",
       "    </tr>\n",
       "    <tr>\n",
       "      <th>9</th>\n",
       "      <td>9</td>\n",
       "      <td>1.0</td>\n",
       "      <td>No</td>\n",
       "      <td>8.0</td>\n",
       "      <td>6.0</td>\n",
       "      <td>No</td>\n",
       "      <td>14.0</td>\n",
       "      <td>9.0</td>\n",
       "      <td>Extrovert</td>\n",
       "    </tr>\n",
       "  </tbody>\n",
       "</table>\n",
       "</div>"
      ],
      "text/plain": [
       "   id  Time_spent_Alone Stage_fear  Social_event_attendance  Going_outside  \\\n",
       "0   0               0.0         No                      6.0            4.0   \n",
       "1   1               1.0         No                      7.0            3.0   \n",
       "2   2               6.0        Yes                      1.0            0.0   \n",
       "3   3               3.0         No                      7.0            3.0   \n",
       "4   4               1.0         No                      4.0            4.0   \n",
       "5   5               2.0         No                      8.0            5.0   \n",
       "6   6               1.0         No                      8.0            NaN   \n",
       "7   7               2.0         No                      8.0            3.0   \n",
       "8   8               4.0        Yes                      2.0            1.0   \n",
       "9   9               1.0         No                      8.0            6.0   \n",
       "\n",
       "  Drained_after_socializing  Friends_circle_size  Post_frequency Personality  \n",
       "0                        No                 15.0             5.0   Extrovert  \n",
       "1                        No                 10.0             8.0   Extrovert  \n",
       "2                       NaN                  3.0             0.0   Introvert  \n",
       "3                        No                 11.0             5.0   Extrovert  \n",
       "4                        No                 13.0             NaN   Extrovert  \n",
       "5                        No                  NaN             3.0   Extrovert  \n",
       "6                        No                  NaN             4.0   Extrovert  \n",
       "7                        No                  4.0             5.0   Extrovert  \n",
       "8                       NaN                  0.0             2.0   Introvert  \n",
       "9                        No                 14.0             9.0   Extrovert  "
      ]
     },
     "execution_count": 4,
     "metadata": {},
     "output_type": "execute_result"
    }
   ],
   "source": [
    "train.head(10)"
   ]
  },
  {
   "cell_type": "code",
   "execution_count": 5,
   "id": "0ed585fe",
   "metadata": {
    "execution": {
     "iopub.execute_input": "2025-07-03T16:03:08.032544Z",
     "iopub.status.busy": "2025-07-03T16:03:08.032178Z",
     "iopub.status.idle": "2025-07-03T16:03:08.050968Z",
     "shell.execute_reply": "2025-07-03T16:03:08.049783Z"
    },
    "papermill": {
     "duration": 0.028999,
     "end_time": "2025-07-03T16:03:08.052495",
     "exception": false,
     "start_time": "2025-07-03T16:03:08.023496",
     "status": "completed"
    },
    "tags": []
   },
   "outputs": [
    {
     "name": "stderr",
     "output_type": "stream",
     "text": [
      "/usr/local/lib/python3.11/dist-packages/pandas/io/formats/format.py:1458: RuntimeWarning: invalid value encountered in greater\n",
      "  has_large_values = (abs_vals > 1e6).any()\n",
      "/usr/local/lib/python3.11/dist-packages/pandas/io/formats/format.py:1459: RuntimeWarning: invalid value encountered in less\n",
      "  has_small_values = ((abs_vals < 10 ** (-self.digits)) & (abs_vals > 0)).any()\n",
      "/usr/local/lib/python3.11/dist-packages/pandas/io/formats/format.py:1459: RuntimeWarning: invalid value encountered in greater\n",
      "  has_small_values = ((abs_vals < 10 ** (-self.digits)) & (abs_vals > 0)).any()\n"
     ]
    },
    {
     "data": {
      "text/html": [
       "<div>\n",
       "<style scoped>\n",
       "    .dataframe tbody tr th:only-of-type {\n",
       "        vertical-align: middle;\n",
       "    }\n",
       "\n",
       "    .dataframe tbody tr th {\n",
       "        vertical-align: top;\n",
       "    }\n",
       "\n",
       "    .dataframe thead th {\n",
       "        text-align: right;\n",
       "    }\n",
       "</style>\n",
       "<table border=\"1\" class=\"dataframe\">\n",
       "  <thead>\n",
       "    <tr style=\"text-align: right;\">\n",
       "      <th></th>\n",
       "      <th>id</th>\n",
       "      <th>Time_spent_Alone</th>\n",
       "      <th>Stage_fear</th>\n",
       "      <th>Social_event_attendance</th>\n",
       "      <th>Going_outside</th>\n",
       "      <th>Drained_after_socializing</th>\n",
       "      <th>Friends_circle_size</th>\n",
       "      <th>Post_frequency</th>\n",
       "      <th>Personality</th>\n",
       "    </tr>\n",
       "  </thead>\n",
       "  <tbody>\n",
       "    <tr>\n",
       "      <th>18514</th>\n",
       "      <td>18514</td>\n",
       "      <td>6.0</td>\n",
       "      <td>No</td>\n",
       "      <td>5.0</td>\n",
       "      <td>3.0</td>\n",
       "      <td>No</td>\n",
       "      <td>10.0</td>\n",
       "      <td>4.0</td>\n",
       "      <td>Extrovert</td>\n",
       "    </tr>\n",
       "    <tr>\n",
       "      <th>18515</th>\n",
       "      <td>18515</td>\n",
       "      <td>NaN</td>\n",
       "      <td>No</td>\n",
       "      <td>9.0</td>\n",
       "      <td>4.0</td>\n",
       "      <td>No</td>\n",
       "      <td>5.0</td>\n",
       "      <td>8.0</td>\n",
       "      <td>Extrovert</td>\n",
       "    </tr>\n",
       "    <tr>\n",
       "      <th>18516</th>\n",
       "      <td>18516</td>\n",
       "      <td>NaN</td>\n",
       "      <td>No</td>\n",
       "      <td>6.0</td>\n",
       "      <td>5.0</td>\n",
       "      <td>No</td>\n",
       "      <td>9.0</td>\n",
       "      <td>4.0</td>\n",
       "      <td>Extrovert</td>\n",
       "    </tr>\n",
       "    <tr>\n",
       "      <th>18517</th>\n",
       "      <td>18517</td>\n",
       "      <td>3.0</td>\n",
       "      <td>No</td>\n",
       "      <td>NaN</td>\n",
       "      <td>4.0</td>\n",
       "      <td>No</td>\n",
       "      <td>7.0</td>\n",
       "      <td>6.0</td>\n",
       "      <td>Extrovert</td>\n",
       "    </tr>\n",
       "    <tr>\n",
       "      <th>18518</th>\n",
       "      <td>18518</td>\n",
       "      <td>3.0</td>\n",
       "      <td>NaN</td>\n",
       "      <td>8.0</td>\n",
       "      <td>3.0</td>\n",
       "      <td>No</td>\n",
       "      <td>5.0</td>\n",
       "      <td>8.0</td>\n",
       "      <td>Extrovert</td>\n",
       "    </tr>\n",
       "    <tr>\n",
       "      <th>18519</th>\n",
       "      <td>18519</td>\n",
       "      <td>3.0</td>\n",
       "      <td>No</td>\n",
       "      <td>7.0</td>\n",
       "      <td>3.0</td>\n",
       "      <td>No</td>\n",
       "      <td>9.0</td>\n",
       "      <td>7.0</td>\n",
       "      <td>Extrovert</td>\n",
       "    </tr>\n",
       "    <tr>\n",
       "      <th>18520</th>\n",
       "      <td>18520</td>\n",
       "      <td>1.0</td>\n",
       "      <td>NaN</td>\n",
       "      <td>6.0</td>\n",
       "      <td>7.0</td>\n",
       "      <td>No</td>\n",
       "      <td>6.0</td>\n",
       "      <td>5.0</td>\n",
       "      <td>Extrovert</td>\n",
       "    </tr>\n",
       "    <tr>\n",
       "      <th>18521</th>\n",
       "      <td>18521</td>\n",
       "      <td>7.0</td>\n",
       "      <td>Yes</td>\n",
       "      <td>1.0</td>\n",
       "      <td>1.0</td>\n",
       "      <td>Yes</td>\n",
       "      <td>1.0</td>\n",
       "      <td>NaN</td>\n",
       "      <td>Introvert</td>\n",
       "    </tr>\n",
       "    <tr>\n",
       "      <th>18522</th>\n",
       "      <td>18522</td>\n",
       "      <td>NaN</td>\n",
       "      <td>Yes</td>\n",
       "      <td>1.0</td>\n",
       "      <td>0.0</td>\n",
       "      <td>Yes</td>\n",
       "      <td>5.0</td>\n",
       "      <td>2.0</td>\n",
       "      <td>Introvert</td>\n",
       "    </tr>\n",
       "    <tr>\n",
       "      <th>18523</th>\n",
       "      <td>18523</td>\n",
       "      <td>1.0</td>\n",
       "      <td>No</td>\n",
       "      <td>8.0</td>\n",
       "      <td>6.0</td>\n",
       "      <td>No</td>\n",
       "      <td>4.0</td>\n",
       "      <td>7.0</td>\n",
       "      <td>Extrovert</td>\n",
       "    </tr>\n",
       "  </tbody>\n",
       "</table>\n",
       "</div>"
      ],
      "text/plain": [
       "          id  Time_spent_Alone Stage_fear  Social_event_attendance  \\\n",
       "18514  18514               6.0         No                      5.0   \n",
       "18515  18515               NaN         No                      9.0   \n",
       "18516  18516               NaN         No                      6.0   \n",
       "18517  18517               3.0         No                      NaN   \n",
       "18518  18518               3.0        NaN                      8.0   \n",
       "18519  18519               3.0         No                      7.0   \n",
       "18520  18520               1.0        NaN                      6.0   \n",
       "18521  18521               7.0        Yes                      1.0   \n",
       "18522  18522               NaN        Yes                      1.0   \n",
       "18523  18523               1.0         No                      8.0   \n",
       "\n",
       "       Going_outside Drained_after_socializing  Friends_circle_size  \\\n",
       "18514            3.0                        No                 10.0   \n",
       "18515            4.0                        No                  5.0   \n",
       "18516            5.0                        No                  9.0   \n",
       "18517            4.0                        No                  7.0   \n",
       "18518            3.0                        No                  5.0   \n",
       "18519            3.0                        No                  9.0   \n",
       "18520            7.0                        No                  6.0   \n",
       "18521            1.0                       Yes                  1.0   \n",
       "18522            0.0                       Yes                  5.0   \n",
       "18523            6.0                        No                  4.0   \n",
       "\n",
       "       Post_frequency Personality  \n",
       "18514             4.0   Extrovert  \n",
       "18515             8.0   Extrovert  \n",
       "18516             4.0   Extrovert  \n",
       "18517             6.0   Extrovert  \n",
       "18518             8.0   Extrovert  \n",
       "18519             7.0   Extrovert  \n",
       "18520             5.0   Extrovert  \n",
       "18521             NaN   Introvert  \n",
       "18522             2.0   Introvert  \n",
       "18523             7.0   Extrovert  "
      ]
     },
     "execution_count": 5,
     "metadata": {},
     "output_type": "execute_result"
    }
   ],
   "source": [
    "train.tail(10)"
   ]
  },
  {
   "cell_type": "code",
   "execution_count": 6,
   "id": "b5485dd3",
   "metadata": {
    "execution": {
     "iopub.execute_input": "2025-07-03T16:03:08.065076Z",
     "iopub.status.busy": "2025-07-03T16:03:08.064714Z",
     "iopub.status.idle": "2025-07-03T16:03:08.099489Z",
     "shell.execute_reply": "2025-07-03T16:03:08.098475Z"
    },
    "papermill": {
     "duration": 0.043119,
     "end_time": "2025-07-03T16:03:08.101486",
     "exception": false,
     "start_time": "2025-07-03T16:03:08.058367",
     "status": "completed"
    },
    "tags": []
   },
   "outputs": [
    {
     "data": {
      "text/html": [
       "<div>\n",
       "<style scoped>\n",
       "    .dataframe tbody tr th:only-of-type {\n",
       "        vertical-align: middle;\n",
       "    }\n",
       "\n",
       "    .dataframe tbody tr th {\n",
       "        vertical-align: top;\n",
       "    }\n",
       "\n",
       "    .dataframe thead th {\n",
       "        text-align: right;\n",
       "    }\n",
       "</style>\n",
       "<table border=\"1\" class=\"dataframe\">\n",
       "  <thead>\n",
       "    <tr style=\"text-align: right;\">\n",
       "      <th></th>\n",
       "      <th>id</th>\n",
       "      <th>Time_spent_Alone</th>\n",
       "      <th>Social_event_attendance</th>\n",
       "      <th>Going_outside</th>\n",
       "      <th>Friends_circle_size</th>\n",
       "      <th>Post_frequency</th>\n",
       "    </tr>\n",
       "  </thead>\n",
       "  <tbody>\n",
       "    <tr>\n",
       "      <th>count</th>\n",
       "      <td>18524.000000</td>\n",
       "      <td>17334.000000</td>\n",
       "      <td>17344.000000</td>\n",
       "      <td>17058.000000</td>\n",
       "      <td>17470.000000</td>\n",
       "      <td>17260.000000</td>\n",
       "    </tr>\n",
       "    <tr>\n",
       "      <th>mean</th>\n",
       "      <td>9261.500000</td>\n",
       "      <td>3.137764</td>\n",
       "      <td>5.265106</td>\n",
       "      <td>4.044319</td>\n",
       "      <td>7.996737</td>\n",
       "      <td>4.982097</td>\n",
       "    </tr>\n",
       "    <tr>\n",
       "      <th>std</th>\n",
       "      <td>5347.562529</td>\n",
       "      <td>3.003786</td>\n",
       "      <td>2.753359</td>\n",
       "      <td>2.062580</td>\n",
       "      <td>4.223484</td>\n",
       "      <td>2.879139</td>\n",
       "    </tr>\n",
       "    <tr>\n",
       "      <th>min</th>\n",
       "      <td>0.000000</td>\n",
       "      <td>0.000000</td>\n",
       "      <td>0.000000</td>\n",
       "      <td>0.000000</td>\n",
       "      <td>0.000000</td>\n",
       "      <td>0.000000</td>\n",
       "    </tr>\n",
       "    <tr>\n",
       "      <th>25%</th>\n",
       "      <td>4630.750000</td>\n",
       "      <td>1.000000</td>\n",
       "      <td>3.000000</td>\n",
       "      <td>3.000000</td>\n",
       "      <td>5.000000</td>\n",
       "      <td>3.000000</td>\n",
       "    </tr>\n",
       "    <tr>\n",
       "      <th>50%</th>\n",
       "      <td>9261.500000</td>\n",
       "      <td>2.000000</td>\n",
       "      <td>5.000000</td>\n",
       "      <td>4.000000</td>\n",
       "      <td>8.000000</td>\n",
       "      <td>5.000000</td>\n",
       "    </tr>\n",
       "    <tr>\n",
       "      <th>75%</th>\n",
       "      <td>13892.250000</td>\n",
       "      <td>4.000000</td>\n",
       "      <td>8.000000</td>\n",
       "      <td>6.000000</td>\n",
       "      <td>12.000000</td>\n",
       "      <td>7.000000</td>\n",
       "    </tr>\n",
       "    <tr>\n",
       "      <th>max</th>\n",
       "      <td>18523.000000</td>\n",
       "      <td>11.000000</td>\n",
       "      <td>10.000000</td>\n",
       "      <td>7.000000</td>\n",
       "      <td>15.000000</td>\n",
       "      <td>10.000000</td>\n",
       "    </tr>\n",
       "  </tbody>\n",
       "</table>\n",
       "</div>"
      ],
      "text/plain": [
       "                 id  Time_spent_Alone  Social_event_attendance  Going_outside  \\\n",
       "count  18524.000000      17334.000000             17344.000000   17058.000000   \n",
       "mean    9261.500000          3.137764                 5.265106       4.044319   \n",
       "std     5347.562529          3.003786                 2.753359       2.062580   \n",
       "min        0.000000          0.000000                 0.000000       0.000000   \n",
       "25%     4630.750000          1.000000                 3.000000       3.000000   \n",
       "50%     9261.500000          2.000000                 5.000000       4.000000   \n",
       "75%    13892.250000          4.000000                 8.000000       6.000000   \n",
       "max    18523.000000         11.000000                10.000000       7.000000   \n",
       "\n",
       "       Friends_circle_size  Post_frequency  \n",
       "count         17470.000000    17260.000000  \n",
       "mean              7.996737        4.982097  \n",
       "std               4.223484        2.879139  \n",
       "min               0.000000        0.000000  \n",
       "25%               5.000000        3.000000  \n",
       "50%               8.000000        5.000000  \n",
       "75%              12.000000        7.000000  \n",
       "max              15.000000       10.000000  "
      ]
     },
     "execution_count": 6,
     "metadata": {},
     "output_type": "execute_result"
    }
   ],
   "source": [
    "train.describe()"
   ]
  },
  {
   "cell_type": "code",
   "execution_count": 7,
   "id": "38a4e689",
   "metadata": {
    "execution": {
     "iopub.execute_input": "2025-07-03T16:03:08.116772Z",
     "iopub.status.busy": "2025-07-03T16:03:08.116359Z",
     "iopub.status.idle": "2025-07-03T16:03:08.129706Z",
     "shell.execute_reply": "2025-07-03T16:03:08.128375Z"
    },
    "papermill": {
     "duration": 0.023519,
     "end_time": "2025-07-03T16:03:08.131825",
     "exception": false,
     "start_time": "2025-07-03T16:03:08.108306",
     "status": "completed"
    },
    "tags": []
   },
   "outputs": [
    {
     "data": {
      "text/plain": [
       "id                              0\n",
       "Time_spent_Alone             1190\n",
       "Stage_fear                   1893\n",
       "Social_event_attendance      1180\n",
       "Going_outside                1466\n",
       "Drained_after_socializing    1149\n",
       "Friends_circle_size          1054\n",
       "Post_frequency               1264\n",
       "Personality                     0\n",
       "dtype: int64"
      ]
     },
     "execution_count": 7,
     "metadata": {},
     "output_type": "execute_result"
    }
   ],
   "source": [
    "train.isnull().sum() # Check for missing values in train"
   ]
  },
  {
   "cell_type": "code",
   "execution_count": 8,
   "id": "d0fd8b8e",
   "metadata": {
    "execution": {
     "iopub.execute_input": "2025-07-03T16:03:08.146458Z",
     "iopub.status.busy": "2025-07-03T16:03:08.146060Z",
     "iopub.status.idle": "2025-07-03T16:03:08.175414Z",
     "shell.execute_reply": "2025-07-03T16:03:08.174072Z"
    },
    "papermill": {
     "duration": 0.039055,
     "end_time": "2025-07-03T16:03:08.177132",
     "exception": false,
     "start_time": "2025-07-03T16:03:08.138077",
     "status": "completed"
    },
    "tags": []
   },
   "outputs": [
    {
     "name": "stdout",
     "output_type": "stream",
     "text": [
      "<class 'pandas.core.frame.DataFrame'>\n",
      "RangeIndex: 18524 entries, 0 to 18523\n",
      "Data columns (total 9 columns):\n",
      " #   Column                     Non-Null Count  Dtype  \n",
      "---  ------                     --------------  -----  \n",
      " 0   id                         18524 non-null  int64  \n",
      " 1   Time_spent_Alone           17334 non-null  float64\n",
      " 2   Stage_fear                 16631 non-null  object \n",
      " 3   Social_event_attendance    17344 non-null  float64\n",
      " 4   Going_outside              17058 non-null  float64\n",
      " 5   Drained_after_socializing  17375 non-null  object \n",
      " 6   Friends_circle_size        17470 non-null  float64\n",
      " 7   Post_frequency             17260 non-null  float64\n",
      " 8   Personality                18524 non-null  object \n",
      "dtypes: float64(5), int64(1), object(3)\n",
      "memory usage: 1.3+ MB\n"
     ]
    }
   ],
   "source": [
    "train.info()"
   ]
  },
  {
   "cell_type": "code",
   "execution_count": 9,
   "id": "2b70350a",
   "metadata": {
    "execution": {
     "iopub.execute_input": "2025-07-03T16:03:08.191267Z",
     "iopub.status.busy": "2025-07-03T16:03:08.190908Z",
     "iopub.status.idle": "2025-07-03T16:03:08.205653Z",
     "shell.execute_reply": "2025-07-03T16:03:08.204711Z"
    },
    "papermill": {
     "duration": 0.023879,
     "end_time": "2025-07-03T16:03:08.207074",
     "exception": false,
     "start_time": "2025-07-03T16:03:08.183195",
     "status": "completed"
    },
    "tags": []
   },
   "outputs": [
    {
     "name": "stderr",
     "output_type": "stream",
     "text": [
      "/usr/local/lib/python3.11/dist-packages/pandas/io/formats/format.py:1458: RuntimeWarning: invalid value encountered in greater\n",
      "  has_large_values = (abs_vals > 1e6).any()\n",
      "/usr/local/lib/python3.11/dist-packages/pandas/io/formats/format.py:1459: RuntimeWarning: invalid value encountered in less\n",
      "  has_small_values = ((abs_vals < 10 ** (-self.digits)) & (abs_vals > 0)).any()\n",
      "/usr/local/lib/python3.11/dist-packages/pandas/io/formats/format.py:1459: RuntimeWarning: invalid value encountered in greater\n",
      "  has_small_values = ((abs_vals < 10 ** (-self.digits)) & (abs_vals > 0)).any()\n"
     ]
    },
    {
     "data": {
      "text/html": [
       "<div>\n",
       "<style scoped>\n",
       "    .dataframe tbody tr th:only-of-type {\n",
       "        vertical-align: middle;\n",
       "    }\n",
       "\n",
       "    .dataframe tbody tr th {\n",
       "        vertical-align: top;\n",
       "    }\n",
       "\n",
       "    .dataframe thead th {\n",
       "        text-align: right;\n",
       "    }\n",
       "</style>\n",
       "<table border=\"1\" class=\"dataframe\">\n",
       "  <thead>\n",
       "    <tr style=\"text-align: right;\">\n",
       "      <th></th>\n",
       "      <th>id</th>\n",
       "      <th>Time_spent_Alone</th>\n",
       "      <th>Stage_fear</th>\n",
       "      <th>Social_event_attendance</th>\n",
       "      <th>Going_outside</th>\n",
       "      <th>Drained_after_socializing</th>\n",
       "      <th>Friends_circle_size</th>\n",
       "      <th>Post_frequency</th>\n",
       "    </tr>\n",
       "  </thead>\n",
       "  <tbody>\n",
       "    <tr>\n",
       "      <th>0</th>\n",
       "      <td>18524</td>\n",
       "      <td>3.0</td>\n",
       "      <td>No</td>\n",
       "      <td>7.0</td>\n",
       "      <td>4.0</td>\n",
       "      <td>No</td>\n",
       "      <td>6.0</td>\n",
       "      <td>NaN</td>\n",
       "    </tr>\n",
       "    <tr>\n",
       "      <th>1</th>\n",
       "      <td>18525</td>\n",
       "      <td>NaN</td>\n",
       "      <td>Yes</td>\n",
       "      <td>0.0</td>\n",
       "      <td>0.0</td>\n",
       "      <td>Yes</td>\n",
       "      <td>5.0</td>\n",
       "      <td>1.0</td>\n",
       "    </tr>\n",
       "    <tr>\n",
       "      <th>2</th>\n",
       "      <td>18526</td>\n",
       "      <td>3.0</td>\n",
       "      <td>No</td>\n",
       "      <td>5.0</td>\n",
       "      <td>6.0</td>\n",
       "      <td>No</td>\n",
       "      <td>15.0</td>\n",
       "      <td>9.0</td>\n",
       "    </tr>\n",
       "    <tr>\n",
       "      <th>3</th>\n",
       "      <td>18527</td>\n",
       "      <td>3.0</td>\n",
       "      <td>No</td>\n",
       "      <td>4.0</td>\n",
       "      <td>4.0</td>\n",
       "      <td>No</td>\n",
       "      <td>5.0</td>\n",
       "      <td>6.0</td>\n",
       "    </tr>\n",
       "    <tr>\n",
       "      <th>4</th>\n",
       "      <td>18528</td>\n",
       "      <td>9.0</td>\n",
       "      <td>Yes</td>\n",
       "      <td>1.0</td>\n",
       "      <td>2.0</td>\n",
       "      <td>Yes</td>\n",
       "      <td>1.0</td>\n",
       "      <td>1.0</td>\n",
       "    </tr>\n",
       "  </tbody>\n",
       "</table>\n",
       "</div>"
      ],
      "text/plain": [
       "      id  Time_spent_Alone Stage_fear  Social_event_attendance  Going_outside  \\\n",
       "0  18524               3.0         No                      7.0            4.0   \n",
       "1  18525               NaN        Yes                      0.0            0.0   \n",
       "2  18526               3.0         No                      5.0            6.0   \n",
       "3  18527               3.0         No                      4.0            4.0   \n",
       "4  18528               9.0        Yes                      1.0            2.0   \n",
       "\n",
       "  Drained_after_socializing  Friends_circle_size  Post_frequency  \n",
       "0                        No                  6.0             NaN  \n",
       "1                       Yes                  5.0             1.0  \n",
       "2                        No                 15.0             9.0  \n",
       "3                        No                  5.0             6.0  \n",
       "4                       Yes                  1.0             1.0  "
      ]
     },
     "execution_count": 9,
     "metadata": {},
     "output_type": "execute_result"
    }
   ],
   "source": [
    "test.head()"
   ]
  },
  {
   "cell_type": "code",
   "execution_count": 10,
   "id": "1167812e",
   "metadata": {
    "execution": {
     "iopub.execute_input": "2025-07-03T16:03:08.220704Z",
     "iopub.status.busy": "2025-07-03T16:03:08.220351Z",
     "iopub.status.idle": "2025-07-03T16:03:08.229424Z",
     "shell.execute_reply": "2025-07-03T16:03:08.228466Z"
    },
    "papermill": {
     "duration": 0.017809,
     "end_time": "2025-07-03T16:03:08.231135",
     "exception": false,
     "start_time": "2025-07-03T16:03:08.213326",
     "status": "completed"
    },
    "tags": []
   },
   "outputs": [
    {
     "data": {
      "text/plain": [
       "id                             0\n",
       "Time_spent_Alone             425\n",
       "Stage_fear                   598\n",
       "Social_event_attendance      397\n",
       "Going_outside                466\n",
       "Drained_after_socializing    432\n",
       "Friends_circle_size          350\n",
       "Post_frequency               408\n",
       "dtype: int64"
      ]
     },
     "execution_count": 10,
     "metadata": {},
     "output_type": "execute_result"
    }
   ],
   "source": [
    "test.isnull().sum()"
   ]
  },
  {
   "cell_type": "code",
   "execution_count": 11,
   "id": "3b95c86c",
   "metadata": {
    "execution": {
     "iopub.execute_input": "2025-07-03T16:03:08.245528Z",
     "iopub.status.busy": "2025-07-03T16:03:08.245121Z",
     "iopub.status.idle": "2025-07-03T16:03:08.271558Z",
     "shell.execute_reply": "2025-07-03T16:03:08.270430Z"
    },
    "papermill": {
     "duration": 0.036032,
     "end_time": "2025-07-03T16:03:08.273554",
     "exception": false,
     "start_time": "2025-07-03T16:03:08.237522",
     "status": "completed"
    },
    "tags": []
   },
   "outputs": [
    {
     "data": {
      "text/html": [
       "<div>\n",
       "<style scoped>\n",
       "    .dataframe tbody tr th:only-of-type {\n",
       "        vertical-align: middle;\n",
       "    }\n",
       "\n",
       "    .dataframe tbody tr th {\n",
       "        vertical-align: top;\n",
       "    }\n",
       "\n",
       "    .dataframe thead th {\n",
       "        text-align: right;\n",
       "    }\n",
       "</style>\n",
       "<table border=\"1\" class=\"dataframe\">\n",
       "  <thead>\n",
       "    <tr style=\"text-align: right;\">\n",
       "      <th></th>\n",
       "      <th>id</th>\n",
       "      <th>Time_spent_Alone</th>\n",
       "      <th>Social_event_attendance</th>\n",
       "      <th>Going_outside</th>\n",
       "      <th>Friends_circle_size</th>\n",
       "      <th>Post_frequency</th>\n",
       "    </tr>\n",
       "  </thead>\n",
       "  <tbody>\n",
       "    <tr>\n",
       "      <th>count</th>\n",
       "      <td>6175.000000</td>\n",
       "      <td>5750.000000</td>\n",
       "      <td>5778.000000</td>\n",
       "      <td>5709.000000</td>\n",
       "      <td>5825.000000</td>\n",
       "      <td>5767.000000</td>\n",
       "    </tr>\n",
       "    <tr>\n",
       "      <th>mean</th>\n",
       "      <td>21611.000000</td>\n",
       "      <td>3.116870</td>\n",
       "      <td>5.287989</td>\n",
       "      <td>4.037835</td>\n",
       "      <td>8.008412</td>\n",
       "      <td>5.028958</td>\n",
       "    </tr>\n",
       "    <tr>\n",
       "      <th>std</th>\n",
       "      <td>1782.713288</td>\n",
       "      <td>2.985658</td>\n",
       "      <td>2.758052</td>\n",
       "      <td>2.045207</td>\n",
       "      <td>4.192701</td>\n",
       "      <td>2.867285</td>\n",
       "    </tr>\n",
       "    <tr>\n",
       "      <th>min</th>\n",
       "      <td>18524.000000</td>\n",
       "      <td>0.000000</td>\n",
       "      <td>0.000000</td>\n",
       "      <td>0.000000</td>\n",
       "      <td>0.000000</td>\n",
       "      <td>0.000000</td>\n",
       "    </tr>\n",
       "    <tr>\n",
       "      <th>25%</th>\n",
       "      <td>20067.500000</td>\n",
       "      <td>1.000000</td>\n",
       "      <td>3.000000</td>\n",
       "      <td>3.000000</td>\n",
       "      <td>5.000000</td>\n",
       "      <td>3.000000</td>\n",
       "    </tr>\n",
       "    <tr>\n",
       "      <th>50%</th>\n",
       "      <td>21611.000000</td>\n",
       "      <td>2.000000</td>\n",
       "      <td>5.000000</td>\n",
       "      <td>4.000000</td>\n",
       "      <td>8.000000</td>\n",
       "      <td>5.000000</td>\n",
       "    </tr>\n",
       "    <tr>\n",
       "      <th>75%</th>\n",
       "      <td>23154.500000</td>\n",
       "      <td>4.000000</td>\n",
       "      <td>8.000000</td>\n",
       "      <td>6.000000</td>\n",
       "      <td>12.000000</td>\n",
       "      <td>7.000000</td>\n",
       "    </tr>\n",
       "    <tr>\n",
       "      <th>max</th>\n",
       "      <td>24698.000000</td>\n",
       "      <td>11.000000</td>\n",
       "      <td>10.000000</td>\n",
       "      <td>7.000000</td>\n",
       "      <td>15.000000</td>\n",
       "      <td>10.000000</td>\n",
       "    </tr>\n",
       "  </tbody>\n",
       "</table>\n",
       "</div>"
      ],
      "text/plain": [
       "                 id  Time_spent_Alone  Social_event_attendance  Going_outside  \\\n",
       "count   6175.000000       5750.000000              5778.000000    5709.000000   \n",
       "mean   21611.000000          3.116870                 5.287989       4.037835   \n",
       "std     1782.713288          2.985658                 2.758052       2.045207   \n",
       "min    18524.000000          0.000000                 0.000000       0.000000   \n",
       "25%    20067.500000          1.000000                 3.000000       3.000000   \n",
       "50%    21611.000000          2.000000                 5.000000       4.000000   \n",
       "75%    23154.500000          4.000000                 8.000000       6.000000   \n",
       "max    24698.000000         11.000000                10.000000       7.000000   \n",
       "\n",
       "       Friends_circle_size  Post_frequency  \n",
       "count          5825.000000     5767.000000  \n",
       "mean              8.008412        5.028958  \n",
       "std               4.192701        2.867285  \n",
       "min               0.000000        0.000000  \n",
       "25%               5.000000        3.000000  \n",
       "50%               8.000000        5.000000  \n",
       "75%              12.000000        7.000000  \n",
       "max              15.000000       10.000000  "
      ]
     },
     "execution_count": 11,
     "metadata": {},
     "output_type": "execute_result"
    }
   ],
   "source": [
    "test.describe()"
   ]
  },
  {
   "cell_type": "markdown",
   "id": "c5b91727",
   "metadata": {
    "papermill": {
     "duration": 0.006257,
     "end_time": "2025-07-03T16:03:08.286817",
     "exception": false,
     "start_time": "2025-07-03T16:03:08.280560",
     "status": "completed"
    },
    "tags": []
   },
   "source": [
    "## Replacing Mising Values"
   ]
  },
  {
   "cell_type": "code",
   "execution_count": 12,
   "id": "dce9a83f",
   "metadata": {
    "execution": {
     "iopub.execute_input": "2025-07-03T16:03:08.301138Z",
     "iopub.status.busy": "2025-07-03T16:03:08.300763Z",
     "iopub.status.idle": "2025-07-03T16:03:08.313070Z",
     "shell.execute_reply": "2025-07-03T16:03:08.311939Z"
    },
    "papermill": {
     "duration": 0.022329,
     "end_time": "2025-07-03T16:03:08.315603",
     "exception": false,
     "start_time": "2025-07-03T16:03:08.293274",
     "status": "completed"
    },
    "tags": []
   },
   "outputs": [],
   "source": [
    "TARGET   = \"Personality\"     \n",
    "ID_COL   = \"id\"\n",
    "\n",
    "# Drop the target (and id) from the feature frame\n",
    "feat_train = train.drop(columns=[TARGET, ID_COL])\n",
    "feat_test  = test.drop(columns=[ID_COL])    "
   ]
  },
  {
   "cell_type": "code",
   "execution_count": 13,
   "id": "8a0b94d6",
   "metadata": {
    "execution": {
     "iopub.execute_input": "2025-07-03T16:03:08.332210Z",
     "iopub.status.busy": "2025-07-03T16:03:08.331726Z",
     "iopub.status.idle": "2025-07-03T16:03:08.340711Z",
     "shell.execute_reply": "2025-07-03T16:03:08.339433Z"
    },
    "papermill": {
     "duration": 0.019955,
     "end_time": "2025-07-03T16:03:08.342699",
     "exception": false,
     "start_time": "2025-07-03T16:03:08.322744",
     "status": "completed"
    },
    "tags": []
   },
   "outputs": [],
   "source": [
    "# Split columns by dtype\n",
    "num_cols = feat_train.select_dtypes(include='number').columns\n",
    "cat_cols = feat_train.select_dtypes(include='object').columns"
   ]
  },
  {
   "cell_type": "code",
   "execution_count": 14,
   "id": "d8e72a27",
   "metadata": {
    "execution": {
     "iopub.execute_input": "2025-07-03T16:03:08.358686Z",
     "iopub.status.busy": "2025-07-03T16:03:08.358310Z",
     "iopub.status.idle": "2025-07-03T16:03:08.379914Z",
     "shell.execute_reply": "2025-07-03T16:03:08.378692Z"
    },
    "papermill": {
     "duration": 0.032414,
     "end_time": "2025-07-03T16:03:08.382282",
     "exception": false,
     "start_time": "2025-07-03T16:03:08.349868",
     "status": "completed"
    },
    "tags": []
   },
   "outputs": [],
   "source": [
    "# Fill numeric with median\n",
    "feat_train[num_cols] = feat_train[num_cols].fillna(train[num_cols].median())\n",
    "feat_test[num_cols] = feat_test[num_cols].fillna(train[num_cols].median())"
   ]
  },
  {
   "cell_type": "code",
   "execution_count": 15,
   "id": "7094fcf7",
   "metadata": {
    "execution": {
     "iopub.execute_input": "2025-07-03T16:03:08.397501Z",
     "iopub.status.busy": "2025-07-03T16:03:08.397114Z",
     "iopub.status.idle": "2025-07-03T16:03:08.410983Z",
     "shell.execute_reply": "2025-07-03T16:03:08.409944Z"
    },
    "papermill": {
     "duration": 0.023789,
     "end_time": "2025-07-03T16:03:08.413325",
     "exception": false,
     "start_time": "2025-07-03T16:03:08.389536",
     "status": "completed"
    },
    "tags": []
   },
   "outputs": [],
   "source": [
    "# Fill categoricals with 'Missing'\n",
    "feat_train[cat_cols] = feat_train[cat_cols].fillna(\"Missing\")\n",
    "feat_test[cat_cols] = feat_test[cat_cols].fillna(\"Missing\")"
   ]
  },
  {
   "cell_type": "code",
   "execution_count": 16,
   "id": "4c66d975",
   "metadata": {
    "execution": {
     "iopub.execute_input": "2025-07-03T16:03:08.429550Z",
     "iopub.status.busy": "2025-07-03T16:03:08.428944Z",
     "iopub.status.idle": "2025-07-03T16:03:08.441966Z",
     "shell.execute_reply": "2025-07-03T16:03:08.440936Z"
    },
    "papermill": {
     "duration": 0.023456,
     "end_time": "2025-07-03T16:03:08.444068",
     "exception": false,
     "start_time": "2025-07-03T16:03:08.420612",
     "status": "completed"
    },
    "tags": []
   },
   "outputs": [
    {
     "data": {
      "text/plain": [
       "0"
      ]
     },
     "execution_count": 16,
     "metadata": {},
     "output_type": "execute_result"
    }
   ],
   "source": [
    "pd.concat([feat_train, feat_test]).isna().sum().sum()"
   ]
  },
  {
   "cell_type": "markdown",
   "id": "ce5c3ecd",
   "metadata": {
    "papermill": {
     "duration": 0.006296,
     "end_time": "2025-07-03T16:03:08.457447",
     "exception": false,
     "start_time": "2025-07-03T16:03:08.451151",
     "status": "completed"
    },
    "tags": []
   },
   "source": [
    "# K‑fold cross‑validation to pick iterations & score"
   ]
  },
  {
   "cell_type": "code",
   "execution_count": 17,
   "id": "3163b271",
   "metadata": {
    "execution": {
     "iopub.execute_input": "2025-07-03T16:03:08.471725Z",
     "iopub.status.busy": "2025-07-03T16:03:08.471334Z",
     "iopub.status.idle": "2025-07-03T16:03:09.311556Z",
     "shell.execute_reply": "2025-07-03T16:03:09.309977Z"
    },
    "papermill": {
     "duration": 0.849865,
     "end_time": "2025-07-03T16:03:09.313592",
     "exception": false,
     "start_time": "2025-07-03T16:03:08.463727",
     "status": "completed"
    },
    "tags": []
   },
   "outputs": [],
   "source": [
    "from catboost import CatBoostClassifier, Pool\n",
    "\n",
    "\n",
    "SEED      = 42\n",
    "N_FOLDS   = 5\n",
    "\n",
    "# ========= 1.  split label & features =========\n",
    "y = train[TARGET].map({\"Introvert\":0, \"Extrovert\":1})  # convert to 0/1\n",
    "X = feat_train.copy()\n",
    "\n",
    "cat_cols = X.select_dtypes(include=\"object\").columns.tolist()"
   ]
  },
  {
   "cell_type": "code",
   "execution_count": 18,
   "id": "228d7d2a",
   "metadata": {
    "execution": {
     "iopub.execute_input": "2025-07-03T16:03:09.331542Z",
     "iopub.status.busy": "2025-07-03T16:03:09.331034Z",
     "iopub.status.idle": "2025-07-03T16:03:40.772704Z",
     "shell.execute_reply": "2025-07-03T16:03:40.771662Z"
    },
    "papermill": {
     "duration": 31.458719,
     "end_time": "2025-07-03T16:03:40.780615",
     "exception": false,
     "start_time": "2025-07-03T16:03:09.321896",
     "status": "completed"
    },
    "tags": []
   },
   "outputs": [
    {
     "name": "stdout",
     "output_type": "stream",
     "text": [
      "\n",
      "🟢  Fold 1/5\n",
      "    Fold log‑loss: 0.12589  |  best_iter: 138\n",
      "\n",
      "🟢  Fold 2/5\n",
      "    Fold log‑loss: 0.13563  |  best_iter: 167\n",
      "\n",
      "🟢  Fold 3/5\n",
      "    Fold log‑loss: 0.14105  |  best_iter: 88\n",
      "\n",
      "🟢  Fold 4/5\n",
      "    Fold log‑loss: 0.12607  |  best_iter: 158\n",
      "\n",
      "🟢  Fold 5/5\n",
      "    Fold log‑loss: 0.12107  |  best_iter: 80\n",
      "\n",
      "📊  CV mean log‑loss = 0.12994119054847944 +/- 0.007292196983726723\n",
      "Chosen global iteration count: 126\n"
     ]
    }
   ],
   "source": [
    "oof_pred   = np.zeros(len(feat_train))\n",
    "fold_scores, best_iters = [], []\n",
    "\n",
    "skf = StratifiedKFold(n_splits=N_FOLDS, shuffle=True, random_state=SEED)\n",
    "\n",
    "for fold, (tr_idx, val_idx) in enumerate(skf.split(feat_train, y)):\n",
    "    print(f\"\\n🟢  Fold {fold+1}/{N_FOLDS}\")\n",
    "    X_tr, X_val = feat_train.iloc[tr_idx], feat_train.iloc[val_idx]\n",
    "    y_tr, y_val = y.iloc[tr_idx], y.iloc[val_idx]\n",
    "\n",
    "    tr_pool  = Pool(X_tr, y_tr, cat_features=cat_cols)\n",
    "    val_pool = Pool(X_val, y_val, cat_features=cat_cols)\n",
    "\n",
    "    model = CatBoostClassifier(\n",
    "        iterations=5000,                 # upper bound; we'll early‑stop\n",
    "        learning_rate=0.05,\n",
    "        depth=6,\n",
    "        l2_leaf_reg=3,\n",
    "        loss_function=\"Logloss\",\n",
    "        eval_metric=\"Logloss\",\n",
    "        random_seed=SEED,\n",
    "        verbose=False,\n",
    "        early_stopping_rounds=300\n",
    "    )\n",
    "    model.fit(tr_pool, eval_set=val_pool, use_best_model=True)\n",
    "    best_iters.append(model.get_best_iteration())\n",
    "\n",
    "    val_pred = model.predict_proba(val_pool)[:, 1]\n",
    "    oof_pred[val_idx] = val_pred\n",
    "    score = log_loss(y_val, val_pred)\n",
    "    fold_scores.append(score)\n",
    "    print(f\"    Fold log‑loss: {score:.5f}  |  best_iter: {model.get_best_iteration()}\")\n",
    "\n",
    "print(\"\\n📊  CV mean log‑loss =\", np.mean(fold_scores), \"+/-\", np.std(fold_scores))\n",
    "BEST_ITERS = int(np.round(np.mean(best_iters)))\n",
    "print(\"Chosen global iteration count:\", BEST_ITERS)"
   ]
  },
  {
   "cell_type": "markdown",
   "id": "b92d4a5d",
   "metadata": {
    "papermill": {
     "duration": 0.008304,
     "end_time": "2025-07-03T16:03:40.800547",
     "exception": false,
     "start_time": "2025-07-03T16:03:40.792243",
     "status": "completed"
    },
    "tags": []
   },
   "source": [
    "# Train final model on the **full** training dataset"
   ]
  },
  {
   "cell_type": "code",
   "execution_count": 19,
   "id": "8e6c40bc",
   "metadata": {
    "execution": {
     "iopub.execute_input": "2025-07-03T16:03:40.817017Z",
     "iopub.status.busy": "2025-07-03T16:03:40.816673Z",
     "iopub.status.idle": "2025-07-03T16:03:41.474308Z",
     "shell.execute_reply": "2025-07-03T16:03:41.472558Z"
    },
    "papermill": {
     "duration": 0.667697,
     "end_time": "2025-07-03T16:03:41.476578",
     "exception": false,
     "start_time": "2025-07-03T16:03:40.808881",
     "status": "completed"
    },
    "tags": []
   },
   "outputs": [
    {
     "data": {
      "text/plain": [
       "<catboost.core.CatBoostClassifier at 0x79e2ac4d58d0>"
      ]
     },
     "execution_count": 19,
     "metadata": {},
     "output_type": "execute_result"
    }
   ],
   "source": [
    "full_pool = Pool(feat_train, y, cat_features=cat_cols)\n",
    "final_model = CatBoostClassifier(\n",
    "    iterations=BEST_ITERS,\n",
    "    learning_rate=0.05,\n",
    "    depth=6,\n",
    "    l2_leaf_reg=3,\n",
    "    loss_function=\"Logloss\",\n",
    "    eval_metric=\"Logloss\",\n",
    "    random_seed=SEED,\n",
    "    verbose=False\n",
    ")\n",
    "final_model.fit(full_pool)\n"
   ]
  },
  {
   "cell_type": "markdown",
   "id": "2f5beb07",
   "metadata": {
    "papermill": {
     "duration": 0.006569,
     "end_time": "2025-07-03T16:03:41.490283",
     "exception": false,
     "start_time": "2025-07-03T16:03:41.483714",
     "status": "completed"
    },
    "tags": []
   },
   "source": [
    "# Predict test set and create submission"
   ]
  },
  {
   "cell_type": "code",
   "execution_count": 20,
   "id": "dcd0267a",
   "metadata": {
    "execution": {
     "iopub.execute_input": "2025-07-03T16:03:41.505382Z",
     "iopub.status.busy": "2025-07-03T16:03:41.505050Z",
     "iopub.status.idle": "2025-07-03T16:03:41.533740Z",
     "shell.execute_reply": "2025-07-03T16:03:41.532578Z"
    },
    "papermill": {
     "duration": 0.038364,
     "end_time": "2025-07-03T16:03:41.535466",
     "exception": false,
     "start_time": "2025-07-03T16:03:41.497102",
     "status": "completed"
    },
    "tags": []
   },
   "outputs": [
    {
     "name": "stdout",
     "output_type": "stream",
     "text": [
      "      id Personality\n",
      "0  18524   Extrovert\n",
      "1  18525   Introvert\n",
      "2  18526   Extrovert\n",
      "3  18527   Extrovert\n",
      "4  18528   Introvert\n"
     ]
    }
   ],
   "source": [
    "test_pool = Pool(feat_test, cat_features=cat_cols)\n",
    "test_probs = final_model.predict_proba(test_pool)[:, 1]\n",
    "test_labels = np.where(test_probs >= 0.5, \"Extrovert\", \"Introvert\")\n",
    "\n",
    "submission = pd.DataFrame({\n",
    "    ID_COL: test[ID_COL],\n",
    "    TARGET: test_labels\n",
    "})\n",
    "submission.to_csv(\"submission.csv\", index=False)\n",
    "print(submission.head())"
   ]
  },
  {
   "cell_type": "code",
   "execution_count": null,
   "id": "63c7119e",
   "metadata": {
    "papermill": {
     "duration": 0.007001,
     "end_time": "2025-07-03T16:03:41.549538",
     "exception": false,
     "start_time": "2025-07-03T16:03:41.542537",
     "status": "completed"
    },
    "tags": []
   },
   "outputs": [],
   "source": []
  }
 ],
 "metadata": {
  "kaggle": {
   "accelerator": "none",
   "dataSources": [
    {
     "databundleVersionId": 12738969,
     "sourceId": 91718,
     "sourceType": "competition"
    }
   ],
   "dockerImageVersionId": 31040,
   "isGpuEnabled": false,
   "isInternetEnabled": true,
   "language": "python",
   "sourceType": "notebook"
  },
  "kernelspec": {
   "display_name": "Python 3",
   "language": "python",
   "name": "python3"
  },
  "language_info": {
   "codemirror_mode": {
    "name": "ipython",
    "version": 3
   },
   "file_extension": ".py",
   "mimetype": "text/x-python",
   "name": "python",
   "nbconvert_exporter": "python",
   "pygments_lexer": "ipython3",
   "version": "3.11.11"
  },
  "papermill": {
   "default_parameters": {},
   "duration": 45.535569,
   "end_time": "2025-07-03T16:03:42.379209",
   "environment_variables": {},
   "exception": null,
   "input_path": "__notebook__.ipynb",
   "output_path": "__notebook__.ipynb",
   "parameters": {},
   "start_time": "2025-07-03T16:02:56.843640",
   "version": "2.6.0"
  }
 },
 "nbformat": 4,
 "nbformat_minor": 5
}
